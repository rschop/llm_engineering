{
 "cells": [
  {
   "cell_type": "code",
   "execution_count": 1,
   "id": "8ab6d0f9",
   "metadata": {},
   "outputs": [],
   "source": [
    "from langchain_community.document_loaders import PyPDFLoader"
   ]
  },
  {
   "cell_type": "code",
   "execution_count": 2,
   "id": "39320192",
   "metadata": {},
   "outputs": [],
   "source": [
    "file_path = (\n",
    "    \"/home/rschop/llm_engineering/caorijk/caorijk.pdf\"\n",
    "    # \"/home/rschop/llm_engineering/caorijk/layout-parser-paper.pdf\"\n",
    ")"
   ]
  },
  {
   "cell_type": "code",
   "execution_count": 3,
   "id": "b878eb7d",
   "metadata": {},
   "outputs": [],
   "source": [
    "loader = PyPDFLoader(file_path)\n",
    "\n",
    "pages = []\n",
    "async for page in loader.alazy_load():\n",
    "    pages.append(page)"
   ]
  },
  {
   "cell_type": "code",
   "execution_count": 4,
   "id": "499887cc",
   "metadata": {},
   "outputs": [
    {
     "name": "stdout",
     "output_type": "stream",
     "text": [
      "{'producer': 'Adobe PDF Library 24.2.23', 'creator': 'Acrobat PDFMaker 24 voor Word', 'creationdate': '2024-06-27T14:56:32+02:00', 'author': 'Hovius, Géke', 'comments': '', 'company': 'Rijksoverheid', 'keywords': '', 'moddate': '2024-07-04T16:18:27+02:00', 'sourcemodified': 'D:20240627125451', 'subject': '', 'title': '', 'source': '/home/rschop/llm_engineering/caorijk/caorijk.pdf', 'total_pages': 307, 'page': 3, 'page_label': '4'}\n",
      "\n",
      "Download van www.caorijk.nl: CAO Rijk 2024-2025, versie vastgesteld d.d. 27 juni 2024 \n",
      "  \n",
      " pagina 4 van 307 \n",
      " \n",
      "§ 13.2 Voorzieningen bij melden vermoeden van een misstand ............................................... 72 \n",
      "Hoofdstuk 14. Organisatieverandering en VWNW-beleid ................................................................ 75 \n",
      "§ 14.1 Algemeen............................................................................................................... 75 \n",
      "§ 14.2 VWNW-begeleiding .................................................................................................. 77 \n",
      "§ 14.3 Voorzieningen VWNW-beleid en reorganisaties............................................................ 80 \n",
      "§ 14.4 Stimuleringspremie en uitruil stimuleringspremie ........................................................ 85 \n",
      "Hoofdstuk 15. Ordemaatregelen en straffen ................................................................................ 88 \n",
      "Ordemaatregelen .................................................................................................................. 88 \n",
      "Straffen ............................................................................................................................... 88 \n",
      "Hoofdstuk 16. Individuele geschillen ........................................................................................... 89 \n",
      "§ 16.1 Rijksloket advies en bemiddeling arbeidszaken (RABA) ................................................ 89 \n",
      "§ 16.2 Geschillencommissie ................................................................................................ 89 \n",
      "Hoofdstuk 17. Algemene bestuursdienst ..................................................................................... 91 \n",
      "Topmanagementgroep ........................................................................................................... 91 \n",
      "Overige ABD-functies ............................................................................................................. 92 \n",
      "Hoofdstuk 18. Arbeidsbeperkten ................................................................................................ 93 \n",
      "Hoofdstuk 19. Hoge Colleges van Staat ...................................................................................... 94 \n",
      "Salaris ................................................................................................................................. 94 \n",
      "Vergadergebonden functie ...................................................................................................... 94 \n",
      "Werken in roosterdienst ......................................................................................................... 94 \n",
      "Kamertoelage ....................................................................................................................... 95 \n",
      "Representatiekostenvergoeding .............................................................................................. 95 \n",
      "Algemene bestuursdienst ....................................................................................................... 95 \n",
      "Personeelsgesprek en beoordeling ........................................................................................... 95 \n",
      "Hoofdstuk 20. Niet-rechterlijke leden gerechtsbesturen en Raad voor de rechtspraak ....................... 96 \n",
      "Salaris ................................................................................................................................. 96 \n",
      "Onkostenvergoeding .............................................................................................................. 96 \n",
      "Algemene bestuursdienst ....................................................................................................... 96 \n",
      "Personeelsgesprek ................................................................................................................. 96 \n",
      "Na afloop benoemingstermijn ................................................................................................. 97 \n",
      "Hoofdstuk 21. Personenchauffeurs ............................................................................................. 98 \n",
      "Hoofdstuk 22. Werken in roosterdienst ....................................................................................... 99 \n",
      "§ 22.1 Werk- en rusttijden ................................................................................................. 99 \n",
      "§ 22.2 Afrekenen gewerkte uren per jaar ........................................................................... 100 \n",
      "§ 22.3 Toelage onregelmatige dienst (TOD) ....................................................................... 101 \n",
      "§ 22.4 Vaste toelage onregelmatige dienst vanaf 55 jaar (TOD-55+) ..................................... 102 \n",
      "§ 22.5 Aanvullende toelage onregelmatige dienst (Aanvullende TOD) .................................... 102 \n",
      "§ 22.6 Aflopende toelage onregelmatige dienst (Aflopende TOD) .......................................... 102 \n",
      "§ 22.7 Toelage vrijwillige nachtdienst ................................................................................ 103 \n",
      "§ 22.8 Toelage werktijdverschuiving .................................................................................. 103 \n",
      "§ 22.9 Gereserveerd voor garantietoelage roosterdienst (per 1 januari 2025) ......................... 103 \n",
      "§ 22.10 Overwerkvergoeding ................................................................................................ 103 \n",
      "Hoofdstuk 23. Substantieel bezwarende functies ......................................................................... 105\n"
     ]
    }
   ],
   "source": [
    "print(f\"{pages[3].metadata}\\n\")\n",
    "print(pages[3].page_content)"
   ]
  },
  {
   "cell_type": "code",
   "execution_count": 5,
   "id": "9ba7026a",
   "metadata": {},
   "outputs": [],
   "source": [
    "import os\n",
    "from dotenv import load_dotenv"
   ]
  },
  {
   "cell_type": "code",
   "execution_count": 6,
   "id": "d7debb9d",
   "metadata": {},
   "outputs": [
    {
     "name": "stdout",
     "output_type": "stream",
     "text": [
      "API key found and looks good so far!\n"
     ]
    }
   ],
   "source": [
    "load_dotenv(override=True)\n",
    "api_key = os.getenv('OPENAI_API_KEY')\n",
    "\n",
    "# Check the key\n",
    "\n",
    "if not api_key:\n",
    "    print(\"No API key was found - please head over to the troubleshooting notebook in this folder to identify & fix!\")\n",
    "elif not api_key.startswith(\"sk-proj-\"):\n",
    "    print(\"An API key was found, but it doesn't start sk-proj-; please check you're using the right key - see troubleshooting notebook\")\n",
    "elif api_key.strip() != api_key:\n",
    "    print(\"An API key was found, but it looks like it might have space or tab characters at the start or end - please remove them - see troubleshooting notebook\")\n",
    "else:\n",
    "    print(\"API key found and looks good so far!\")"
   ]
  },
  {
   "cell_type": "code",
   "execution_count": 7,
   "id": "055a6d6c",
   "metadata": {},
   "outputs": [],
   "source": [
    "from langchain_core.vectorstores import InMemoryVectorStore\n",
    "from langchain_openai import OpenAIEmbeddings"
   ]
  },
  {
   "cell_type": "code",
   "execution_count": 8,
   "id": "1baa466c",
   "metadata": {},
   "outputs": [
    {
     "name": "stdout",
     "output_type": "stream",
     "text": [
      "Page 21: Download van www.caorijk.nl: CAO Rijk 2024-2025, versie vastgesteld d.d. 27 juni 2024 \n",
      "  \n",
      " pagina 22 van 307 \n",
      " \n",
      "Hoofdstuk 4. Vakantie en bijzonder verlof \n",
      " \n",
      "§ 4.1 Vakantie \n",
      " \n",
      "Aanspraak vakantie-uren \n",
      "U heeft wettelijk recht op 144 vakantie-uren.  \n",
      "In geval van: \n",
      "• in- of uitdiensttreding gedurende e\n",
      "\n",
      "Page 20: Download van www.caorijk.nl: CAO Rijk 2024-2025, versie vastgesteld d.d. 27 juni 2024 \n",
      "  \n",
      " pagina 21 van 307 \n",
      " \n",
      "Het aantal kalenderdagen in het jaar verminderd met: \n",
      "• het aantal zaterdagen en zondagen in het jaar en \n",
      "• het aantal feestdagen in het jaar dat niet valt op een zaterdag of een zondag. \n",
      "\n",
      "\n",
      "Page 99: Download van www.caorijk.nl: CAO Rijk 2024-2025, versie vastgesteld d.d. 27 juni 2024 \n",
      "  \n",
      " pagina 100 van 307 \n",
      " \n",
      " Collectief roosteren Meeroosteren \n",
      "Minimale rusttijd na \n",
      "nachtdienst \n",
      "14 uur, als de dienst eindigt na \n",
      "02.00 uur. Met instemming \n",
      "werknemer kan de rusttijd een keer \n",
      "per periode van 7x2\n",
      "\n",
      "Page 27: Download van www.caorijk.nl: CAO Rijk 2024-2025, versie vastgesteld d.d. 27 juni 2024 \n",
      "  \n",
      " pagina 28 van 307 \n",
      " \n",
      "Situatie \n",
      " \n",
      "Aantal dagen \n",
      "uw eigen huwelijk, geregistreerd partnerschap of \n",
      "samenlevingscontract \n",
      " \n",
      "2 dagen \n",
      "een huwelijk, geregistreerd partnerschap of \n",
      "samenlevingscontract van eigen en \n",
      "\n",
      "Page 86: Download van www.caorijk.nl: CAO Rijk 2024-2025, versie vastgesteld d.d. 27 juni 2024 \n",
      "  \n",
      " pagina 87 van 307 \n",
      " \n",
      "Uw verlofperiode wordt berekend door het bedrag van uw stimuleringspremie te delen door het bedrag \n",
      "van uw salaris dat is gebruikt om uw stimuleringspremie te berekenen. Uw verlof wordt af\n",
      "\n"
     ]
    }
   ],
   "source": [
    "\n",
    "vector_store = InMemoryVectorStore.from_documents(pages, OpenAIEmbeddings())\n",
    "docs = vector_store.similarity_search(\"Hoeveel vakantiedagen heb ik?\", k=5)\n",
    "for doc in docs:\n",
    "    print(f'Page {doc.metadata[\"page\"]}: {doc.page_content[:300]}\\n')"
   ]
  }
 ],
 "metadata": {
  "kernelspec": {
   "display_name": "llms",
   "language": "python",
   "name": "python3"
  },
  "language_info": {
   "codemirror_mode": {
    "name": "ipython",
    "version": 3
   },
   "file_extension": ".py",
   "mimetype": "text/x-python",
   "name": "python",
   "nbconvert_exporter": "python",
   "pygments_lexer": "ipython3",
   "version": "3.12.3"
  }
 },
 "nbformat": 4,
 "nbformat_minor": 5
}
